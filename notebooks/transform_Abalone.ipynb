{
 "cells": [
  {
   "cell_type": "markdown",
   "metadata": {},
   "source": [
    "# Exploratory Data Analysis of Abalone"
   ]
  },
  {
   "cell_type": "markdown",
   "metadata": {},
   "source": [
    "### EPIC 1 STORY 1.1"
   ]
  },
  {
   "cell_type": "code",
   "execution_count": null,
   "metadata": {},
   "outputs": [],
   "source": [
    "import pandas as pd"
   ]
  },
  {
   "cell_type": "code",
   "execution_count": null,
   "metadata": {},
   "outputs": [
    {
     "name": "stdout",
     "output_type": "stream",
     "text": [
      "<class 'pandas.core.frame.DataFrame'>\n",
      "RangeIndex: 4174 entries, 0 to 4173\n",
      "Data columns (total 9 columns):\n",
      " #   Column           Non-Null Count  Dtype  \n",
      "---  ------           --------------  -----  \n",
      " 0   Sex              4174 non-null   object \n",
      " 1    Length          4174 non-null   float64\n",
      " 2    Diameter        4174 non-null   float64\n",
      " 3    Height          4174 non-null   float64\n",
      " 4    Whole_weight    4174 non-null   float64\n",
      " 5    Shucked_weight  4174 non-null   float64\n",
      " 6    Viscera_weight  4174 non-null   float64\n",
      " 7    Shell_weight    4174 non-null   float64\n",
      " 8   Class            4174 non-null   object \n",
      "dtypes: float64(7), object(2)\n",
      "memory usage: 293.6+ KB\n",
      "<class 'pandas.core.frame.DataFrame'>\n",
      "RangeIndex: 4174 entries, 0 to 4173\n",
      "Data columns (total 9 columns):\n",
      " #   Column           Non-Null Count  Dtype  \n",
      "---  ------           --------------  -----  \n",
      " 0   Sex              4174 non-null   string \n",
      " 1    Length          4174 non-null   float64\n",
      " 2    Diameter        4174 non-null   float64\n",
      " 3    Height          4174 non-null   float64\n",
      " 4    Whole_weight    4174 non-null   float64\n",
      " 5    Shucked_weight  4174 non-null   float64\n",
      " 6    Viscera_weight  4174 non-null   float64\n",
      " 7    Shell_weight    4174 non-null   float64\n",
      " 8   Class            4174 non-null   string \n",
      "dtypes: float64(7), string(2)\n",
      "memory usage: 293.6 KB\n"
     ]
    }
   ],
   "source": [
    "# Task 1.1.1: Load the CSV file using Pandas or another library.\n",
    "abalone_df = pd.read_csv('../data/raw/unclean_abalone.csv')\n",
    "\n",
    "# Task 1.2.1: Check that all expected columns exist in the CSV.\n",
    "abalone_df.head()\n",
    "\n",
    "# Task 1.2.2: Verify data types for each column - numeric, categorical.\n",
    "abalone_df.info()\n",
    "\n",
    "# Task 1.2.3: Check for missing or null values.\n",
    "\n",
    "\n",
    "abalone_df.isnull().sum()\n",
    "\n",
    "# Task 1.2.3: Handle the object type to string\n",
    "\n",
    "abalone_df[[\"Class\",\"Sex\"]] = abalone_df[[\"Class\",\"Sex\"]].astype(\"string\")\n",
    "abalone_df.info()"
   ]
  },
  {
   "cell_type": "code",
   "execution_count": 6,
   "metadata": {},
   "outputs": [
    {
     "data": {
      "text/plain": [
       "Sex                0\n",
       " Length            0\n",
       " Diameter          0\n",
       " Height            0\n",
       " Whole_weight      0\n",
       " Shucked_weight    0\n",
       " Viscera_weight    0\n",
       " Shell_weight      0\n",
       "Class              0\n",
       "dtype: int64"
      ]
     },
     "execution_count": 6,
     "metadata": {},
     "output_type": "execute_result"
    }
   ],
   "source": [
    "abalone_df.isnull().values.any()\n",
    "abalone_df.isnull().sum()\n",
    "\n"
   ]
  },
  {
   "cell_type": "markdown",
   "metadata": {},
   "source": [
    "#### `Class` Column\n",
    "\n",
    "Lets take a look at the `Class` column's values.  We'll get the first 20 unique values to see if there are any inconsistencies or unexpected values."
   ]
  },
  {
   "cell_type": "code",
   "execution_count": null,
   "metadata": {},
   "outputs": [
    {
     "data": {
      "text/plain": [
       "<StringArray>\n",
       "['negative', 'positive']\n",
       "Length: 2, dtype: string"
      ]
     },
     "execution_count": 9,
     "metadata": {},
     "output_type": "execute_result"
    }
   ],
   "source": [
    "# Get the first 20 unique values from the Class column\n",
    "abalone_df[\"Class\"].unique()[:20]"
   ]
  },
  {
   "cell_type": "code",
   "execution_count": 10,
   "metadata": {},
   "outputs": [
    {
     "name": "stdout",
     "output_type": "stream",
     "text": [
      "Value: 'negative', Type: <class 'str'>\n",
      "Value: 'positive', Type: <class 'str'>\n"
     ]
    }
   ],
   "source": [
    "# Check to see if all values are string that are not nan\n",
    "\n",
    "for value in abalone_df[\"Class\"].unique()[:20]:\n",
    "    print(f\"Value: {repr(value)}, Type: {type(value)}\")"
   ]
  },
  {
   "cell_type": "markdown",
   "metadata": {},
   "source": [
    "#### Duplicates\n",
    "\n",
    "How many duplicates are there in the data?  Let's get a ball-park figure."
   ]
  },
  {
   "cell_type": "code",
   "execution_count": 11,
   "metadata": {},
   "outputs": [
    {
     "data": {
      "text/plain": [
       "np.int64(0)"
      ]
     },
     "execution_count": 11,
     "metadata": {},
     "output_type": "execute_result"
    }
   ],
   "source": [
    "# Duplicate rows in current data set\n",
    "abalone_df.duplicated().sum()"
   ]
  },
  {
   "cell_type": "code",
   "execution_count": null,
   "metadata": {},
   "outputs": [
    {
     "name": "stdout",
     "output_type": "stream",
     "text": [
      "9\n"
     ]
    }
   ],
   "source": [
    "# check number or rows in the dataset\n",
    "print(abalone_df.shape[0])"
   ]
  },
  {
   "cell_type": "markdown",
   "metadata": {},
   "source": [
    "### Encode the Categorical Variables"
   ]
  },
  {
   "cell_type": "code",
   "execution_count": 24,
   "metadata": {},
   "outputs": [],
   "source": [
    "import pandas as pd\n",
    "from sklearn.preprocessing import OneHotEncoder\n",
    "\n",
    "# Assume Abalone19 is your DataFrame\n",
    "X = abalone_df.drop(columns=[\"Class\"])  # predictors\n",
    "y = abalone_df[\"Class\"]                # target\n",
    "\n",
    "# Select only 'Sex' column to encode\n",
    "encoder = OneHotEncoder(drop=None, sparse_output=False)\n",
    "sex_encoded = encoder.fit_transform(X[[\"Sex\"]])\n",
    "\n",
    "y_encoded = abalone_df['Class'].map({'negative': 'N', 'positive': 'P'})\n",
    "\n",
    "\n",
    "# Convert to DataFrame with proper column names\n",
    "sex_encoded_df = pd.DataFrame(sex_encoded, columns=encoder.get_feature_names_out([\"Sex\"]))\n",
    "\n",
    "# Drop original 'Sex' column and concatenate encoded columns\n",
    "X_encoded = pd.concat([X.drop(columns=[\"Sex\"]).reset_index(drop=True),\n",
    "                       sex_encoded_df.reset_index(drop=True)], axis=1)\n",
    "\n",
    "# Combine with target column\n",
    "abalone_df_encoded = pd.concat([X_encoded, y_encoded.reset_index(drop=True)], axis=1)\n",
    "\n"
   ]
  },
  {
   "cell_type": "code",
   "execution_count": 26,
   "metadata": {},
   "outputs": [
    {
     "data": {
      "text/html": [
       "<div>\n",
       "<style scoped>\n",
       "    .dataframe tbody tr th:only-of-type {\n",
       "        vertical-align: middle;\n",
       "    }\n",
       "\n",
       "    .dataframe tbody tr th {\n",
       "        vertical-align: top;\n",
       "    }\n",
       "\n",
       "    .dataframe thead th {\n",
       "        text-align: right;\n",
       "    }\n",
       "</style>\n",
       "<table border=\"1\" class=\"dataframe\">\n",
       "  <thead>\n",
       "    <tr style=\"text-align: right;\">\n",
       "      <th></th>\n",
       "      <th>Length</th>\n",
       "      <th>Diameter</th>\n",
       "      <th>Height</th>\n",
       "      <th>Whole_weight</th>\n",
       "      <th>Shucked_weight</th>\n",
       "      <th>Viscera_weight</th>\n",
       "      <th>Shell_weight</th>\n",
       "      <th>Sex_F</th>\n",
       "      <th>Sex_I</th>\n",
       "      <th>Sex_M</th>\n",
       "      <th>Class</th>\n",
       "    </tr>\n",
       "  </thead>\n",
       "  <tbody>\n",
       "    <tr>\n",
       "      <th>0</th>\n",
       "      <td>0.455</td>\n",
       "      <td>0.365</td>\n",
       "      <td>0.095</td>\n",
       "      <td>0.5140</td>\n",
       "      <td>0.2245</td>\n",
       "      <td>0.1010</td>\n",
       "      <td>0.150</td>\n",
       "      <td>0.0</td>\n",
       "      <td>0.0</td>\n",
       "      <td>1.0</td>\n",
       "      <td>N</td>\n",
       "    </tr>\n",
       "    <tr>\n",
       "      <th>1</th>\n",
       "      <td>0.350</td>\n",
       "      <td>0.265</td>\n",
       "      <td>0.090</td>\n",
       "      <td>0.2255</td>\n",
       "      <td>0.0995</td>\n",
       "      <td>0.0485</td>\n",
       "      <td>0.070</td>\n",
       "      <td>0.0</td>\n",
       "      <td>0.0</td>\n",
       "      <td>1.0</td>\n",
       "      <td>N</td>\n",
       "    </tr>\n",
       "    <tr>\n",
       "      <th>2</th>\n",
       "      <td>0.530</td>\n",
       "      <td>0.420</td>\n",
       "      <td>0.135</td>\n",
       "      <td>0.6770</td>\n",
       "      <td>0.2565</td>\n",
       "      <td>0.1415</td>\n",
       "      <td>0.210</td>\n",
       "      <td>1.0</td>\n",
       "      <td>0.0</td>\n",
       "      <td>0.0</td>\n",
       "      <td>N</td>\n",
       "    </tr>\n",
       "    <tr>\n",
       "      <th>3</th>\n",
       "      <td>0.440</td>\n",
       "      <td>0.365</td>\n",
       "      <td>0.125</td>\n",
       "      <td>0.5160</td>\n",
       "      <td>0.2155</td>\n",
       "      <td>0.1140</td>\n",
       "      <td>0.155</td>\n",
       "      <td>0.0</td>\n",
       "      <td>0.0</td>\n",
       "      <td>1.0</td>\n",
       "      <td>N</td>\n",
       "    </tr>\n",
       "    <tr>\n",
       "      <th>4</th>\n",
       "      <td>0.330</td>\n",
       "      <td>0.255</td>\n",
       "      <td>0.080</td>\n",
       "      <td>0.2050</td>\n",
       "      <td>0.0895</td>\n",
       "      <td>0.0395</td>\n",
       "      <td>0.055</td>\n",
       "      <td>0.0</td>\n",
       "      <td>1.0</td>\n",
       "      <td>0.0</td>\n",
       "      <td>N</td>\n",
       "    </tr>\n",
       "    <tr>\n",
       "      <th>5</th>\n",
       "      <td>0.425</td>\n",
       "      <td>0.300</td>\n",
       "      <td>0.095</td>\n",
       "      <td>0.3515</td>\n",
       "      <td>0.1410</td>\n",
       "      <td>0.0775</td>\n",
       "      <td>0.120</td>\n",
       "      <td>0.0</td>\n",
       "      <td>1.0</td>\n",
       "      <td>0.0</td>\n",
       "      <td>N</td>\n",
       "    </tr>\n",
       "    <tr>\n",
       "      <th>6</th>\n",
       "      <td>0.530</td>\n",
       "      <td>0.415</td>\n",
       "      <td>0.150</td>\n",
       "      <td>0.7775</td>\n",
       "      <td>0.2370</td>\n",
       "      <td>0.1415</td>\n",
       "      <td>0.330</td>\n",
       "      <td>1.0</td>\n",
       "      <td>0.0</td>\n",
       "      <td>0.0</td>\n",
       "      <td>N</td>\n",
       "    </tr>\n",
       "    <tr>\n",
       "      <th>7</th>\n",
       "      <td>0.545</td>\n",
       "      <td>0.425</td>\n",
       "      <td>0.125</td>\n",
       "      <td>0.7680</td>\n",
       "      <td>0.2940</td>\n",
       "      <td>0.1495</td>\n",
       "      <td>0.260</td>\n",
       "      <td>1.0</td>\n",
       "      <td>0.0</td>\n",
       "      <td>0.0</td>\n",
       "      <td>N</td>\n",
       "    </tr>\n",
       "    <tr>\n",
       "      <th>8</th>\n",
       "      <td>0.475</td>\n",
       "      <td>0.370</td>\n",
       "      <td>0.125</td>\n",
       "      <td>0.5095</td>\n",
       "      <td>0.2165</td>\n",
       "      <td>0.1125</td>\n",
       "      <td>0.165</td>\n",
       "      <td>0.0</td>\n",
       "      <td>0.0</td>\n",
       "      <td>1.0</td>\n",
       "      <td>N</td>\n",
       "    </tr>\n",
       "    <tr>\n",
       "      <th>9</th>\n",
       "      <td>0.550</td>\n",
       "      <td>0.440</td>\n",
       "      <td>0.150</td>\n",
       "      <td>0.8945</td>\n",
       "      <td>0.3145</td>\n",
       "      <td>0.1510</td>\n",
       "      <td>0.320</td>\n",
       "      <td>1.0</td>\n",
       "      <td>0.0</td>\n",
       "      <td>0.0</td>\n",
       "      <td>P</td>\n",
       "    </tr>\n",
       "  </tbody>\n",
       "</table>\n",
       "</div>"
      ],
      "text/plain": [
       "    Length   Diameter   Height   Whole_weight   Shucked_weight  \\\n",
       "0    0.455      0.365    0.095         0.5140           0.2245   \n",
       "1    0.350      0.265    0.090         0.2255           0.0995   \n",
       "2    0.530      0.420    0.135         0.6770           0.2565   \n",
       "3    0.440      0.365    0.125         0.5160           0.2155   \n",
       "4    0.330      0.255    0.080         0.2050           0.0895   \n",
       "5    0.425      0.300    0.095         0.3515           0.1410   \n",
       "6    0.530      0.415    0.150         0.7775           0.2370   \n",
       "7    0.545      0.425    0.125         0.7680           0.2940   \n",
       "8    0.475      0.370    0.125         0.5095           0.2165   \n",
       "9    0.550      0.440    0.150         0.8945           0.3145   \n",
       "\n",
       "    Viscera_weight   Shell_weight  Sex_F  Sex_I  Sex_M Class  \n",
       "0           0.1010          0.150    0.0    0.0    1.0     N  \n",
       "1           0.0485          0.070    0.0    0.0    1.0     N  \n",
       "2           0.1415          0.210    1.0    0.0    0.0     N  \n",
       "3           0.1140          0.155    0.0    0.0    1.0     N  \n",
       "4           0.0395          0.055    0.0    1.0    0.0     N  \n",
       "5           0.0775          0.120    0.0    1.0    0.0     N  \n",
       "6           0.1415          0.330    1.0    0.0    0.0     N  \n",
       "7           0.1495          0.260    1.0    0.0    0.0     N  \n",
       "8           0.1125          0.165    0.0    0.0    1.0     N  \n",
       "9           0.1510          0.320    1.0    0.0    0.0     P  "
      ]
     },
     "execution_count": 26,
     "metadata": {},
     "output_type": "execute_result"
    }
   ],
   "source": [
    "abalone_df_encoded.head(10)"
   ]
  },
  {
   "cell_type": "code",
   "execution_count": 36,
   "metadata": {},
   "outputs": [
    {
     "name": "stdout",
     "output_type": "stream",
     "text": [
      "     Length   Diameter    Height   Whole_weight   Shucked_weight  \\\n",
      "0 -0.575179  -0.432763 -1.064838      -0.642383        -0.608183   \n",
      "1 -1.450045  -1.441081 -1.184418      -1.231151        -1.171896   \n",
      "2  0.049725   0.121812 -0.108206      -0.309734        -0.463873   \n",
      "3 -0.700160  -0.432763 -0.347364      -0.638301        -0.648770   \n",
      "4 -1.616686  -1.541913 -1.423576      -1.272987        -1.216993   \n",
      "\n",
      "    Viscera_weight   Shell_weight  Sex_F  Sex_I  Sex_M Class  \n",
      "0        -0.726599      -0.638650    0.0    0.0    1.0     N  \n",
      "1        -1.205783      -1.213668    0.0    0.0    1.0     N  \n",
      "2        -0.356942      -0.207386    1.0    0.0    0.0     N  \n",
      "3        -0.607943      -0.602711    0.0    0.0    1.0     N  \n",
      "4        -1.287929      -1.321484    0.0    1.0    0.0     N  \n"
     ]
    }
   ],
   "source": [
    "#import pandas as pd\n",
    "from sklearn.preprocessing import StandardScaler\n",
    "\n",
    "# Suppose df is your DataFrame and you want to standardize numeric columns\n",
    "#numeric_cols = ['Length', 'Diameter', 'Height','Whole_weight','Shucked_weight','Viscera_weight','Shell_weight']  # replace with your numeric column names\n",
    "numeric_cols = abalone_df_encoded.columns.tolist()[0:7]\n",
    "scaler = StandardScaler()\n",
    "\n",
    "# Fit and transform the numeric columns\n",
    "abalone_df_encoded[numeric_cols] = scaler.fit_transform(abalone_df_encoded[numeric_cols])\n",
    "\n",
    "# Check result\n",
    "print(abalone_df_encoded.head())\n"
   ]
  },
  {
   "cell_type": "code",
   "execution_count": 38,
   "metadata": {},
   "outputs": [],
   "source": [
    "abalone_df_encoded.to_csv('../data/processed/cleaned_abalone.csv', index=False)"
   ]
  },
  {
   "cell_type": "code",
   "execution_count": 39,
   "metadata": {},
   "outputs": [],
   "source": [
    "clean_abalone_df = pd.read_csv('../data/processed/cleaned_abalone.csv')"
   ]
  },
  {
   "cell_type": "code",
   "execution_count": 40,
   "metadata": {},
   "outputs": [
    {
     "data": {
      "text/html": [
       "<div>\n",
       "<style scoped>\n",
       "    .dataframe tbody tr th:only-of-type {\n",
       "        vertical-align: middle;\n",
       "    }\n",
       "\n",
       "    .dataframe tbody tr th {\n",
       "        vertical-align: top;\n",
       "    }\n",
       "\n",
       "    .dataframe thead th {\n",
       "        text-align: right;\n",
       "    }\n",
       "</style>\n",
       "<table border=\"1\" class=\"dataframe\">\n",
       "  <thead>\n",
       "    <tr style=\"text-align: right;\">\n",
       "      <th></th>\n",
       "      <th>Length</th>\n",
       "      <th>Diameter</th>\n",
       "      <th>Height</th>\n",
       "      <th>Whole_weight</th>\n",
       "      <th>Shucked_weight</th>\n",
       "      <th>Viscera_weight</th>\n",
       "      <th>Shell_weight</th>\n",
       "      <th>Sex_F</th>\n",
       "      <th>Sex_I</th>\n",
       "      <th>Sex_M</th>\n",
       "      <th>Class</th>\n",
       "    </tr>\n",
       "  </thead>\n",
       "  <tbody>\n",
       "    <tr>\n",
       "      <th>0</th>\n",
       "      <td>-0.575179</td>\n",
       "      <td>-0.432763</td>\n",
       "      <td>-1.064838</td>\n",
       "      <td>-0.642383</td>\n",
       "      <td>-0.608183</td>\n",
       "      <td>-0.726599</td>\n",
       "      <td>-0.638650</td>\n",
       "      <td>0.0</td>\n",
       "      <td>0.0</td>\n",
       "      <td>1.0</td>\n",
       "      <td>N</td>\n",
       "    </tr>\n",
       "    <tr>\n",
       "      <th>1</th>\n",
       "      <td>-1.450045</td>\n",
       "      <td>-1.441081</td>\n",
       "      <td>-1.184418</td>\n",
       "      <td>-1.231151</td>\n",
       "      <td>-1.171896</td>\n",
       "      <td>-1.205783</td>\n",
       "      <td>-1.213668</td>\n",
       "      <td>0.0</td>\n",
       "      <td>0.0</td>\n",
       "      <td>1.0</td>\n",
       "      <td>N</td>\n",
       "    </tr>\n",
       "    <tr>\n",
       "      <th>2</th>\n",
       "      <td>0.049725</td>\n",
       "      <td>0.121812</td>\n",
       "      <td>-0.108206</td>\n",
       "      <td>-0.309734</td>\n",
       "      <td>-0.463873</td>\n",
       "      <td>-0.356942</td>\n",
       "      <td>-0.207386</td>\n",
       "      <td>1.0</td>\n",
       "      <td>0.0</td>\n",
       "      <td>0.0</td>\n",
       "      <td>N</td>\n",
       "    </tr>\n",
       "    <tr>\n",
       "      <th>3</th>\n",
       "      <td>-0.700160</td>\n",
       "      <td>-0.432763</td>\n",
       "      <td>-0.347364</td>\n",
       "      <td>-0.638301</td>\n",
       "      <td>-0.648770</td>\n",
       "      <td>-0.607943</td>\n",
       "      <td>-0.602711</td>\n",
       "      <td>0.0</td>\n",
       "      <td>0.0</td>\n",
       "      <td>1.0</td>\n",
       "      <td>N</td>\n",
       "    </tr>\n",
       "    <tr>\n",
       "      <th>4</th>\n",
       "      <td>-1.616686</td>\n",
       "      <td>-1.541913</td>\n",
       "      <td>-1.423576</td>\n",
       "      <td>-1.272987</td>\n",
       "      <td>-1.216993</td>\n",
       "      <td>-1.287929</td>\n",
       "      <td>-1.321484</td>\n",
       "      <td>0.0</td>\n",
       "      <td>1.0</td>\n",
       "      <td>0.0</td>\n",
       "      <td>N</td>\n",
       "    </tr>\n",
       "  </tbody>\n",
       "</table>\n",
       "</div>"
      ],
      "text/plain": [
       "     Length   Diameter    Height   Whole_weight   Shucked_weight  \\\n",
       "0 -0.575179  -0.432763 -1.064838      -0.642383        -0.608183   \n",
       "1 -1.450045  -1.441081 -1.184418      -1.231151        -1.171896   \n",
       "2  0.049725   0.121812 -0.108206      -0.309734        -0.463873   \n",
       "3 -0.700160  -0.432763 -0.347364      -0.638301        -0.648770   \n",
       "4 -1.616686  -1.541913 -1.423576      -1.272987        -1.216993   \n",
       "\n",
       "    Viscera_weight   Shell_weight  Sex_F  Sex_I  Sex_M Class  \n",
       "0        -0.726599      -0.638650    0.0    0.0    1.0     N  \n",
       "1        -1.205783      -1.213668    0.0    0.0    1.0     N  \n",
       "2        -0.356942      -0.207386    1.0    0.0    0.0     N  \n",
       "3        -0.607943      -0.602711    0.0    0.0    1.0     N  \n",
       "4        -1.287929      -1.321484    0.0    1.0    0.0     N  "
      ]
     },
     "execution_count": 40,
     "metadata": {},
     "output_type": "execute_result"
    }
   ],
   "source": [
    "clean_abalone_df.head()"
   ]
  },
  {
   "cell_type": "code",
   "execution_count": 41,
   "metadata": {},
   "outputs": [
    {
     "name": "stdout",
     "output_type": "stream",
     "text": [
      "<class 'pandas.core.frame.DataFrame'>\n",
      "RangeIndex: 4174 entries, 0 to 4173\n",
      "Data columns (total 11 columns):\n",
      " #   Column           Non-Null Count  Dtype  \n",
      "---  ------           --------------  -----  \n",
      " 0    Length          4174 non-null   float64\n",
      " 1    Diameter        4174 non-null   float64\n",
      " 2    Height          4174 non-null   float64\n",
      " 3    Whole_weight    4174 non-null   float64\n",
      " 4    Shucked_weight  4174 non-null   float64\n",
      " 5    Viscera_weight  4174 non-null   float64\n",
      " 6    Shell_weight    4174 non-null   float64\n",
      " 7   Sex_F            4174 non-null   float64\n",
      " 8   Sex_I            4174 non-null   float64\n",
      " 9   Sex_M            4174 non-null   float64\n",
      " 10  Class            4174 non-null   object \n",
      "dtypes: float64(10), object(1)\n",
      "memory usage: 358.8+ KB\n"
     ]
    }
   ],
   "source": [
    "clean_abalone_df.info()"
   ]
  },
  {
   "cell_type": "markdown",
   "metadata": {},
   "source": [
    "### Reset the indexes\n",
    "\n",
    "> This was added after the previous task as COMPONENT tests failed due to index conflicts - the same will be added for the transaction data set.\n",
    "\n",
    "We can see that the indexes are now out of order, so we will reset them to be sequential again."
   ]
  },
  {
   "cell_type": "code",
   "execution_count": null,
   "metadata": {},
   "outputs": [],
   "source": [
    "customers.reset_index(drop=True, inplace=True)"
   ]
  },
  {
   "cell_type": "markdown",
   "metadata": {},
   "source": [
    "---\n",
    "---"
   ]
  },
  {
   "cell_type": "markdown",
   "metadata": {},
   "source": [
    "### Epic 2 - Story 4 - Task 6 - Save the Cleaned Data\n",
    "\n",
    "For testing purposes in the pipeline, it makes sense for us to export the cleaned DataFrame to a CSV file.  This will allow us to use the cleaned data in the pipeline without having to run the cleaning steps again."
   ]
  },
  {
   "cell_type": "code",
   "execution_count": null,
   "metadata": {},
   "outputs": [],
   "source": [
    "customers.to_csv('../tests/test_data/expected_customers_clean_results.csv', index=False)"
   ]
  },
  {
   "cell_type": "markdown",
   "metadata": {},
   "source": [
    "---"
   ]
  },
  {
   "cell_type": "markdown",
   "metadata": {},
   "source": [
    "### Epic 2 - Story 4 - Task 7 - Transfer the code from the Jupyter Notebook to a Python script, creating separate functions for each cleaning step\n",
    "\n",
    "### Epic 2 - Story 4 - Task 8 - Write tests for each cleaning function to ensure they work correctly\n",
    "\n",
    "### Epic 2 - Story 4 - Task 9 - Create a script to run the cleaning functions in sequence and log the process\n",
    "\n",
    "### Epic 2 - Story 4 - Task 10 - Add the customer cleaning script to scripts/run and update any tests accordingly\n",
    "\n",
    "Jupyter Notebooks do not play nicely with CI/CD pipelines, so we will need to transfer the code from the Jupyter Notebook to a Python script.  We will create separate functions for each cleaning step and then write tests for each function to ensure they work correctly."
   ]
  }
 ],
 "metadata": {
  "kernelspec": {
   "display_name": ".venv",
   "language": "python",
   "name": "python3"
  },
  "language_info": {
   "codemirror_mode": {
    "name": "ipython",
    "version": 3
   },
   "file_extension": ".py",
   "mimetype": "text/x-python",
   "name": "python",
   "nbconvert_exporter": "python",
   "pygments_lexer": "ipython3",
   "version": "3.13.6"
  }
 },
 "nbformat": 4,
 "nbformat_minor": 2
}
